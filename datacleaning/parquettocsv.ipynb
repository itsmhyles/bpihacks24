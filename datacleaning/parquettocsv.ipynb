{
 "cells": [
  {
   "cell_type": "code",
   "execution_count": null,
   "metadata": {
    "vscode": {
     "languageId": "plaintext"
    }
   },
   "outputs": [],
   "source": [
    "# Import required libraries\n",
    "import pandas as pd\n",
    "import pyarrow.parquet as pq\n",
    "import os\n",
    "from IPython.display import FileLink\n",
    "\n",
    "# Function to convert Parquet to CSV\n",
    "def parquet_to_csv(parquet_file):\n",
    "    # Read the Parquet file\n",
    "    table = pq.read_table(parquet_file)\n",
    "    df = table.to_pandas()\n",
    "    \n",
    "    # Convert to CSV\n",
    "    csv_filename = os.path.splitext(parquet_file)[0] + '.csv'\n",
    "    df.to_csv(csv_filename, index=False)\n",
    "    \n",
    "    return csv_filename\n",
    "\n",
    "# Get all Parquet files in the current directory\n",
    "parquet_files = [f for f in os.listdir('.') if f.endswith('.parquet')]\n",
    "\n",
    "# Convert each Parquet file to CSV\n",
    "for parquet_file in parquet_files:\n",
    "    csv_file = parquet_to_csv(parquet_file)\n",
    "    print(f\"Converted {parquet_file} to {csv_file}\")\n",
    "    \n",
    "    # Create a download link for the CSV file\n",
    "    display(FileLink(csv_file))"
   ]
  }
 ],
 "metadata": {
  "language_info": {
   "name": "python"
  }
 },
 "nbformat": 4,
 "nbformat_minor": 2
}
